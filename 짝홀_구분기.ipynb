{
  "nbformat": 4,
  "nbformat_minor": 0,
  "metadata": {
    "colab": {
      "provenance": [],
      "authorship_tag": "ABX9TyO3CQu+XATCV2gfWrvYX4w5",
      "include_colab_link": true
    },
    "kernelspec": {
      "name": "python3",
      "display_name": "Python 3"
    },
    "language_info": {
      "name": "python"
    }
  },
  "cells": [
    {
      "cell_type": "markdown",
      "metadata": {
        "id": "view-in-github",
        "colab_type": "text"
      },
      "source": [
        "<a href=\"https://colab.research.google.com/github/TeeCara/chho/blob/main/%EC%A7%9D%ED%99%80_%EA%B5%AC%EB%B6%84%EA%B8%B0.ipynb\" target=\"_parent\"><img src=\"https://colab.research.google.com/assets/colab-badge.svg\" alt=\"Open In Colab\"/></a>"
      ]
    },
    {
      "cell_type": "markdown",
      "source": [
        "짝수 홀수 구분기"
      ],
      "metadata": {
        "id": "JVbsJTM5LjDY"
      }
    },
    {
      "cell_type": "code",
      "source": [
        "def check_even_odd(number):\n",
        "    if number % 2 == 0:\n",
        "        return f\"{number}는 짝수입니다.\"\n",
        "    else:\n",
        "        return f\"{number}는 홀수입니다.\"\n",
        "\n",
        "# 테스트할 숫자 입력\n",
        "test_number = int(input(\"숫자를 입력하세요: \"))\n",
        "\n",
        "# 결과 출력\n",
        "result = check_even_odd(test_number)\n",
        "print(result)"
      ],
      "metadata": {
        "id": "5U3pMJXPLpPI"
      },
      "execution_count": null,
      "outputs": []
    }
  ]
}